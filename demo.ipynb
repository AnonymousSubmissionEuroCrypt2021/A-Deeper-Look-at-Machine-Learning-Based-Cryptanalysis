{
 "cells": [
  {
   "cell_type": "markdown",
   "metadata": {},
   "source": [
    "# Demos paper"
   ]
  },
  {
   "cell_type": "code",
   "execution_count": 1,
   "metadata": {},
   "outputs": [],
   "source": [
    "! git clone https://github.com/AnonymousSubmissionEuroCrypt2021/A-Deeper-Look-at-Machine-Learning-Based-Cryptanalysis.git\n",
    "! pip3 install captum\n",
    "%cd A-Deeper-Look-at-Machine-Learning-Based-Cryptanalysis/"
   ]
  },
  {
   "cell_type": "markdown",
   "metadata": {},
   "source": [
    "## Run main.py\n",
    "\n",
    "\n",
    "In order to save the ToT and the model LGBM trained"
   ]
  },
  {
   "cell_type": "code",
   "execution_count": 5,
   "metadata": {},
   "outputs": [
    {
     "name": "stdout",
     "output_type": "stream",
     "text": [
      "TODO: MULTITHREADING + ASSERT PATH EXIST DEPEND ON CONDITION + save DDT + deleate some dataset\n",
      "------------------------------------------------------------------------------------------------------------------------------------------------------------------------------------------------------------------------------------------------------------------------------------------------------------\n",
      "\n",
      "Folder save:  ./results/test_v2/speck/5/ctdata0l^ctdata1l_ctdata0r^ctdata1r^ctdata0l^ctdata1l_ctdata0l^ctdata0r_ctdata1l^ctdata1r/2021_03_22_14_22_49_870408/\n",
      "\n",
      "Use Hardware :  cpu\n",
      "\n",
      "LOAD CIPHER\n",
      "\n",
      "------------------------------------------------------------------------------------------------------------------------------------------------------------------------------------------------------------------------------------------------------------------------------------------------------------\n",
      "STEP 1 : LOAD/ TRAIN NN REF\n",
      "\n",
      "COUNTINUOUS LEARNING: False | CURRICULUM LEARNING: False | MODEL: baseline\n",
      "\n",
      "STEP 1 : DONE\n",
      "------------------------------------------------------------------------------------------------------------------------------------------------------------------------------------------------------------------------------------------------------------------------------------------------------------\n",
      "STEP 2 : GET MASKS\n",
      "\n",
      "LOAD MASKS: True | RESEARCH NEW: False | MODEL: ['1, 0.9', '0.9, 0.5', '1, 0.8', '1, 0.5'] ['DeepLift', 'GradientShap', 'FeatureAblation', 'Saliency'] ['abs_sum', 'abs_median', 'abs_mean'] [16, 18] []\n",
      "\n",
      "STEP 2 : DONE\n",
      "------------------------------------------------------------------------------------------------------------------------------------------------------------------------------------------------------------------------------------------------------------------------------------------------------------\n",
      "STEP 3 : MAKE TABLE OF TRUTH\n",
      "\n",
      "NEW DATA: True | PURE ToT: True\n",
      "\n",
      "NUMBER OF SAMPLES IN DDT : 9998511\n",
      "\n",
      "100%|███████████████████████████████████████████| 49/49 [00:45<00:00,  1.07it/s]\n",
      "\n",
      "NUMBER OF ENTRIES IN DDT : 7917249\n",
      "\n",
      "STEP 3 : DONE\n",
      "------------------------------------------------------------------------------------------------------------------------------------------------------------------------------------------------------------------------------------------------------------------------------------------------------------\n",
      "STEP 4 : CREATE DATA PROBA AND CLASSIFY\n",
      "\n",
      "NEW DATA: True\n",
      "\n",
      "\n",
      "NUMBER OF SAMPLES FOR TRAIN : 1000000\n",
      "\n",
      "100%|███████████████████████████████████████████| 49/49 [00:14<00:00,  3.35it/s]\n",
      "\n",
      "NUMBER OF SAMPLES FOR VAL : 100000\n",
      "\n",
      "100%|███████████████████████████████████████████| 49/49 [00:01<00:00, 34.84it/s]\n",
      "\n",
      "START CLASSIFY LGBM\n",
      "\n",
      "[LightGBM] [Warning] Unknown parameter: dart\n",
      "[LightGBM] [Warning] Unknown parameter: bootstrap\n",
      "[LightGBM] [Warning] min_data_in_leaf is set=10, min_child_samples=20 will be ignored. Current value: min_data_in_leaf=10\n",
      "[1 1 0 ... 0 0 0]\n",
      "\n",
      "ACCURACY\n",
      "0.92274\n",
      "Confusion matrix\n",
      "[[47806  2245]\n",
      " [ 5481 44468]]\n",
      "[[0.95514575 0.04485425]\n",
      " [0.10973193 0.89026807]]\n",
      "\n",
      "              precision    recall  f1-score   support\n",
      "\n",
      "      random     0.8971    0.9551    0.9252     50051\n",
      "       speck     0.9519    0.8903    0.9201     49949\n",
      "\n",
      "    accuracy                         0.9227    100000\n",
      "   macro avg     0.9245    0.9227    0.9227    100000\n",
      "weighted avg     0.9245    0.9227    0.9227    100000\n",
      "\n",
      "\n",
      "Mean Absolute Error: 13.999\n",
      "Mean Squared Error: 0.07726\n",
      "Root Mean Squared Error: 0.27795683118067094\n",
      "\n",
      "STEP 4 : DONE\n",
      "------------------------------------------------------------------------------------------------------------------------------------------------------------------------------------------------------------------------------------------------------------------------------------------------------------\n"
     ]
    }
   ],
   "source": [
    "! python3 eval.py --load_model_ToT No --load_model_lgbm No"
   ]
  },
  {
   "cell_type": "markdown",
   "metadata": {},
   "source": [
    "## Run eval\n",
    "\n",
    "Fill the files \n",
    "\n",
    "```c0l_create_proba_val.txt - c0r_create_proba_val.txt - c1l_create_proba_val.txt - c1r_create_proba_val.txt ```\n",
    "\n",
    "with your data"
   ]
  },
  {
   "cell_type": "code",
   "execution_count": 11,
   "metadata": {},
   "outputs": [
    {
     "name": "stdout",
     "output_type": "stream",
     "text": [
      "TODO: MULTITHREADING + ASSERT PATH EXIST DEPEND ON CONDITION + save DDT + deleate some dataset\n",
      "------------------------------------------------------------------------------------------------------------------------------------------------------------------------------------------------------------------------------------------------------------------------------------------------------------\n",
      "\n",
      "Folder save:  ./results/test_v2/speck/5/ctdata0l^ctdata1l_ctdata0r^ctdata1r^ctdata0l^ctdata1l_ctdata0l^ctdata0r_ctdata1l^ctdata1r/2021_03_22_14_54_08_239888/\n",
      "\n",
      "Use Hardware :  cpu\n",
      "\n",
      "LOAD CIPHER\n",
      "\n",
      "------------------------------------------------------------------------------------------------------------------------------------------------------------------------------------------------------------------------------------------------------------------------------------------------------------\n",
      "STEP 1 : LOAD/ TRAIN NN REF\n",
      "\n",
      "COUNTINUOUS LEARNING: False | CURRICULUM LEARNING: False | MODEL: baseline\n",
      "\n",
      "STEP 1 : DONE\n",
      "------------------------------------------------------------------------------------------------------------------------------------------------------------------------------------------------------------------------------------------------------------------------------------------------------------\n",
      "STEP 2 : GET MASKS\n",
      "\n",
      "LOAD MASKS: True | RESEARCH NEW: False | MODEL: ['1, 0.9', '0.9, 0.5', '1, 0.8', '1, 0.5'] ['DeepLift', 'GradientShap', 'FeatureAblation', 'Saliency'] ['abs_sum', 'abs_median', 'abs_mean'] [16, 18] []\n",
      "\n",
      "STEP 2 : DONE\n",
      "------------------------------------------------------------------------------------------------------------------------------------------------------------------------------------------------------------------------------------------------------------------------------------------------------------\n",
      "STEP 3 : MAKE TABLE OF TRUTH\n",
      "\n",
      "NEW DATA: True | PURE ToT: True\n",
      "\n",
      "STEP 3 : DONE\n",
      "------------------------------------------------------------------------------------------------------------------------------------------------------------------------------------------------------------------------------------------------------------------------------------------------------------\n",
      "STEP 4 : CREATE DATA PROBA AND CLASSIFY\n",
      "\n",
      "NEW DATA: True\n",
      "\n",
      "\n",
      "NUMBER OF SAMPLES FOR TRAIN : 1000\n",
      "\n",
      "100%|█████████████████████████████████████████| 49/49 [00:00<00:00, 1478.03it/s]\n",
      "\n",
      "NUMBER OF SAMPLES FOR VAL : 5\n",
      "\n",
      "100%|████████████████████████████████████████| 49/49 [00:00<00:00, 19992.31it/s]\n",
      "\n",
      "START CLASSIFY LGBM\n",
      "\n",
      "[1 1 0 1 1]\n",
      "\n",
      "ACCURACY\n",
      "1.0\n",
      "Confusion matrix\n",
      "[[1 0]\n",
      " [0 4]]\n",
      "[[1. 0.]\n",
      " [0. 1.]]\n",
      "\n",
      "              precision    recall  f1-score   support\n",
      "\n",
      "      random     1.0000    1.0000    1.0000         1\n",
      "       speck     1.0000    1.0000    1.0000         4\n",
      "\n",
      "    accuracy                         1.0000         5\n",
      "   macro avg     1.0000    1.0000    1.0000         5\n",
      "weighted avg     1.0000    1.0000    1.0000         5\n",
      "\n",
      "\n",
      "Mean Absolute Error: 0.0\n",
      "Mean Squared Error: 0.0\n",
      "Root Mean Squared Error: 0.0\n",
      "\n",
      "STEP 4 : DONE\n",
      "------------------------------------------------------------------------------------------------------------------------------------------------------------------------------------------------------------------------------------------------------------------------------------------------------------\n"
     ]
    }
   ],
   "source": [
    "! python3 eval.py --load_data Yes --nbre_sample_train_classifier 1000 "
   ]
  },
  {
   "cell_type": "code",
   "execution_count": null,
   "metadata": {},
   "outputs": [],
   "source": []
  }
 ],
 "metadata": {
  "kernelspec": {
   "display_name": "Python 3",
   "language": "python",
   "name": "python3"
  },
  "language_info": {
   "codemirror_mode": {
    "name": "ipython",
    "version": 3
   },
   "file_extension": ".py",
   "mimetype": "text/x-python",
   "name": "python",
   "nbconvert_exporter": "python",
   "pygments_lexer": "ipython3",
   "version": "3.6.9"
  }
 },
 "nbformat": 4,
 "nbformat_minor": 4
}
