{
 "cells": [
  {
   "cell_type": "markdown",
   "metadata": {},
   "source": [
    "# Demos paper"
   ]
  },
  {
   "cell_type": "code",
   "execution_count": 1,
   "metadata": {
    "jupyter": {
     "source_hidden": true
    }
   },
   "outputs": [],
   "source": [
    "from __future__ import print_function\n",
    "from ipywidgets import interact, interactive, fixed, interact_manual, Text, interactive_output\n",
    "import ipywidgets as widgets\n",
    "from ipywidgets import HBox, Label, IntSlider, VBox"
   ]
  },
  {
   "cell_type": "markdown",
   "metadata": {},
   "source": [
    "## Results section 5\n",
    "\n",
    "In this section, you can run the three main results of the section 5 of the paper: \n",
    "\n",
    "* 5 rounds Speck\n",
    "* 6 rounds Speck\n",
    "* 8 rounds Simon\n",
    "\n",
    "Summary of the results can be found in the folder indicated at the beginning of the logs. Example > ```./results/test_v2/simon/8/c0r^c1r_c0l^c1l_t0^t1/2020_10_12_16_41_07_955595/```\n",
    "\n",
    "Exhaustive exeperiments can be found by running \n",
    "\n",
    "* `python3 main_reproduction_speck_5round.py`\n",
    "* `python3 main_reproduction_speck_6round.py`\n",
    "* `python3 main_reproduction_simon_8round.py`"
   ]
  },
  {
   "cell_type": "code",
   "execution_count": 2,
   "metadata": {
    "jupyter": {
     "source_hidden": true
    }
   },
   "outputs": [],
   "source": [
    "label_round_w = Label('Choose experiment:')\n",
    "round_w = widgets.ToggleButtons(\n",
    "    options=[\"5 Round SPECK\", \"6 Round SPECK\", \"8 Round SIMON\"],\n",
    "    disabled=False,\n",
    ")\n",
    "\n",
    "\n",
    "label_boolean_masks_gen_w = Label('Choose type masks generation:')\n",
    "boolean_masks_gen_w = widgets.ToggleButtons(\n",
    "    options=[\"Generation + 50 masks\"],\n",
    "    disabled=False,\n",
    "    #layout=Layout(width='100%', height='100px')\n",
    ")\n",
    "\n",
    "label_int_samples_MODT_w = Label('Number of samples in M-ODT')\n",
    "int_samples_MODT_w = widgets.ToggleButtons(\n",
    "    options=['1e7'],\n",
    "    disabled=False,\n",
    "    value='1e7',\n",
    "    button_style='', # 'success', 'info', 'warning', 'danger' or ''\n",
    ")\n",
    "\n",
    "label_int_samples_train_w = Label('Number of samples for train the classifier')\n",
    "int_samples_train_w = widgets.ToggleButtons(\n",
    "    options=['1e6'],\n",
    "    disabled=False,\n",
    ")\n",
    "\n",
    "label_int_samples_val_w = Label('Number of samples for test the classifier')\n",
    "int_samples_val_w = widgets.ToggleButtons(\n",
    "    options=[\"1e5\"],\n",
    "    value='1e5'\n",
    ")\n",
    "\n",
    "label_clf = Label('Final classifier')\n",
    "clf_w = widgets.ToggleButtons(\n",
    "    options=[\"LGBM\"],\n",
    "    value='LGBM'\n",
    ")\n",
    "\n",
    "#Create your button.\n",
    "button = widgets.Button(description=\"Go\", )\n",
    "button.style.button_color = 'green'\n",
    "output = widgets.Output()\n",
    "\n",
    "#function to handle input.\n",
    "def showOutput(btn):\n",
    "    output.clear_output()\n",
    "    return_value_round_w = round_w.value\n",
    "    if return_value_round_w == \"8 Round SIMON\":\n",
    "        command = \"python3 main.py --inputs_type '[c0r^c1r, c0l^c1l, t0^t1]' --type_model baseline --nombre_round_eval 8 --diff '(0, 0x0040)' --hamming_weigth '[16, 18, 20]' --load_special Yes --cipher simon --load_masks No\"\n",
    "    elif return_value_round_w == \"5 Round SPECK\":\n",
    "        command = \"python3 main.py --nombre_round_eval 5\"\n",
    "    else:\n",
    "        command = \"python3 main.py --nombre_round_eval 6\"\n",
    "    with output:\n",
    "        print()       \n",
    "        !{command}\n",
    "        \n",
    "        "
   ]
  },
  {
   "cell_type": "code",
   "execution_count": 3,
   "metadata": {
    "jupyter": {
     "source_hidden": true
    }
   },
   "outputs": [
    {
     "data": {
      "application/vnd.jupyter.widget-view+json": {
       "model_id": "e4182b6a0fdd4aa79470af1304b54ee9",
       "version_major": 2,
       "version_minor": 0
      },
      "text/plain": [
       "VBox(children=(HBox(children=(Label(value='Choose experiment:'), ToggleButtons(options=('5 Round SPECK', '6 Ro…"
      ]
     },
     "metadata": {},
     "output_type": "display_data"
    }
   ],
   "source": [
    "button.on_click(showOutput)\n",
    "expe_line = HBox([label_round_w, round_w])\n",
    "masks_line = HBox([label_boolean_masks_gen_w, boolean_masks_gen_w])\n",
    "MODT_line = HBox([label_int_samples_MODT_w, int_samples_MODT_w])\n",
    "clf_line = HBox([label_clf, clf_w])\n",
    "train_line = HBox([label_int_samples_train_w, int_samples_train_w])\n",
    "test_line = HBox([label_int_samples_val_w, int_samples_val_w])\n",
    "\n",
    "label_espace = Label('')\n",
    "final_line = HBox([label_espace])\n",
    "final_line2 = HBox([button, output])\n",
    "vb = VBox([expe_line, masks_line, MODT_line, clf_line, train_line, test_line, final_line, final_line2])\n",
    "vb"
   ]
  },
  {
   "cell_type": "markdown",
   "metadata": {},
   "source": [
    "## Results section 6\n",
    "\n",
    "In this section, you can run the main results of the section 6 of the paper: \n",
    "\n",
    "* Averaging method for 5 - 6 - 7 rounds for batch size 1, 5, 10, 50, 100\n",
    "\n",
    "\n",
    "Summary of the results can be found in the folder indicated at the beginning of the logs. Example > ```./results/test_v2/simon/8/c0r^c1r_c0l^c1l_t0^t1/2020_10_12_16_41_07_955595/```\n",
    "\n",
    "Exhaustive exeperiment can be found by running \n",
    "\n",
    "* `main_reproduction_speck_averaging_batches.py`"
   ]
  },
  {
   "cell_type": "code",
   "execution_count": 4,
   "metadata": {
    "jupyter": {
     "source_hidden": true
    }
   },
   "outputs": [],
   "source": [
    "label_round_w2 = Label('Choose round:')\n",
    "round_w2 = widgets.ToggleButtons(\n",
    "    options=[\"5 Round SPECK\", \"6 Round SPECK\", \"7 Round SPECK\"],\n",
    "    disabled=False,\n",
    ")\n",
    "\n",
    "label_batch_w = Label('Choose batch size:')\n",
    "batch_w = widgets.ToggleButtons(\n",
    "    options=[\"1\", \"5\", \"10\", \"50\", \"100\"],\n",
    "    disabled=False,\n",
    ")\n",
    "\n",
    "\n",
    "\n",
    "#Create your button.\n",
    "button2 = widgets.Button(description=\"Go\", )\n",
    "button2.style.button_color = 'blue'\n",
    "output2 = widgets.Output()\n",
    "\n",
    "#function to handle input.\n",
    "def showOutput2(btn):\n",
    "    output2.clear_output()\n",
    "    return_round_w_w = round_w2.value\n",
    "    return_batch_w = batch_w.value\n",
    "    \n",
    "    nbre_sample_eval  = int(10**6/int(return_batch_w))\n",
    "    \n",
    "    if return_round_w_w == \"5 Round SPECK\":\n",
    "        r = \"5\"\n",
    "    elif return_round_w_w == \"6 Round SPECK\":\n",
    "        r = \"6\"\n",
    "    else:\n",
    "        r = \"7\"\n",
    "    \n",
    "    command = \"python3 eval_Nbatches.py --nbre_sample_eval \"+str(nbre_sample_eval)+\" --Nbatch \" + str(return_batch_w) + \" --nombre_round_eval \" + str(r)\n",
    "    with output2:\n",
    "        print()       \n",
    "        !{command}\n",
    "        \n",
    "        "
   ]
  },
  {
   "cell_type": "code",
   "execution_count": 5,
   "metadata": {
    "jupyter": {
     "source_hidden": true
    }
   },
   "outputs": [
    {
     "data": {
      "application/vnd.jupyter.widget-view+json": {
       "model_id": "93aad452f604431697254c085b8e69f6",
       "version_major": 2,
       "version_minor": 0
      },
      "text/plain": [
       "VBox(children=(HBox(children=(Label(value='Choose round:'), ToggleButtons(options=('5 Round SPECK', '6 Round S…"
      ]
     },
     "metadata": {},
     "output_type": "display_data"
    }
   ],
   "source": [
    "button2.on_click(showOutput2)\n",
    "expe_line2 = HBox([label_round_w2, round_w2])\n",
    "masks_line2 = HBox([label_batch_w, batch_w])\n",
    "\n",
    "\n",
    "label_espace = Label('')\n",
    "final_line = HBox([label_espace])\n",
    "final_line22 = HBox([button2, output2])\n",
    "vb = VBox([expe_line2, masks_line2, final_line, final_line22])\n",
    "vb"
   ]
  },
  {
   "cell_type": "code",
   "execution_count": null,
   "metadata": {},
   "outputs": [],
   "source": []
  }
 ],
 "metadata": {
  "kernelspec": {
   "display_name": "Python 3",
   "language": "python",
   "name": "python3"
  },
  "language_info": {
   "codemirror_mode": {
    "name": "ipython",
    "version": 3
   },
   "file_extension": ".py",
   "mimetype": "text/x-python",
   "name": "python",
   "nbconvert_exporter": "python",
   "pygments_lexer": "ipython3",
   "version": "3.6.9"
  }
 },
 "nbformat": 4,
 "nbformat_minor": 4
}
